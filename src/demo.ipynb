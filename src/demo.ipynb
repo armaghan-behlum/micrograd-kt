{
 "cells": [
  {
   "metadata": {
    "ExecuteTime": {
     "end_time": "2024-10-14T22:36:47.973939Z",
     "start_time": "2024-10-14T22:36:47.072195Z"
    }
   },
   "cell_type": "code",
   "source": [
    "// Analogous to micrograd Value\n",
    "data class Value(\n",
    "    var data: Double,\n",
    "    var grad: Double = 0.0,\n",
    "    var label: String = (1..3).map { ('H'..'Z').random() }.joinToString(\"\"),\n",
    "    var op: String = \"\",\n",
    "    var backward: () -> Unit = {},\n",
    "    val children: MutableSet<Value> = mutableSetOf()\n",
    ") {\n",
    "    operator fun plus(other: Value): Value {\n",
    "        val out = Value(data + other.data, op = \"$label + ${other.label}\")\n",
    "        out.children.addAll(setOf(this, other))\n",
    "        out.backward = {\n",
    "            this.grad += out.grad\n",
    "            other.grad += out.grad\n",
    "        }\n",
    "        return out\n",
    "    }\n",
    "\n",
    "    operator fun times(other: Value): Value {\n",
    "        val out = Value(data * other.data, op = \"$label * ${other.label}\")\n",
    "        out.children.addAll(setOf(this, other))\n",
    "        out.backward = {\n",
    "            this.grad += other.data * out.grad\n",
    "            other.grad += this.data * out.grad\n",
    "        }\n",
    "        return out\n",
    "    }\n",
    "\n",
    "    fun pow(num: Int): Value {\n",
    "        val out = Value(data.pow(num), op = \"$label**${num}\")\n",
    "        out.children.add(this)\n",
    "        out.backward = {\n",
    "            this.grad += num * this.data.pow(num - 1) * out.grad\n",
    "        }\n",
    "        return out\n",
    "    }\n",
    "\n",
    "    fun relu(): Value {\n",
    "        val out = Value(if (data < 0) 0.0 else data, op = \"$label^ReLu\")\n",
    "        out.children.add(this)\n",
    "        out.backward = {\n",
    "            if (out.data > 0) {\n",
    "                this.grad += out.grad\n",
    "            }\n",
    "        }\n",
    "        return out\n",
    "    }\n",
    "\n",
    "    fun runBackProp(debug: Boolean = false) {\n",
    "        // Topologically sort Values for backprop\n",
    "        val sorted = mutableListOf<Value>()\n",
    "        val visited = mutableSetOf<Value>()\n",
    "\n",
    "        fun topo(node: Value) {\n",
    "            if (node in visited) return\n",
    "            visited.add(node)\n",
    "            for (child in node.children) {\n",
    "                topo(child)\n",
    "            }\n",
    "            node.grad = 0.0\n",
    "            sorted.add(node)\n",
    "        }\n",
    "        topo(this)\n",
    "\n",
    "        this.grad = 1.0\n",
    "        for (node in sorted.reversed()) {\n",
    "            node.backward()\n",
    "            if (debug) {\n",
    "                println(node)\n",
    "            }\n",
    "        }\n",
    "    }\n",
    "\n",
    "    operator fun unaryMinus(): Value = this * -1.0\n",
    "    operator fun plus(otherNumber: Number): Value = this + Value(otherNumber.toDouble())\n",
    "    operator fun minus(other: Value) = this + -other\n",
    "    operator fun minus(otherNumber: Number) = this - Value(otherNumber.toDouble())\n",
    "    operator fun times(otherNumber: Number): Value = this * Value(otherNumber.toDouble())\n",
    "    operator fun div(other: Value): Value = this * other.pow(-1)\n",
    "    operator fun div(otherNumber: Number): Value = this / Value(otherNumber.toDouble())\n",
    "\n",
    "    override fun toString(): String {\n",
    "        return \"Value(data=%.4f,grad=%.4f) $label${if (op.isNotBlank()) \" = $op\" else \"\"}\".format(data, grad)\n",
    "    }\n",
    "}\n"
   ],
   "outputs": [],
   "execution_count": 1
  },
  {
   "metadata": {
    "ExecuteTime": {
     "end_time": "2024-10-14T22:36:48.030728Z",
     "start_time": "2024-10-14T22:36:47.982669Z"
    }
   },
   "cell_type": "code",
   "source": [
    "// Extensions for Numerical types\n",
    "operator fun Number.plus(other: Value): Value = other + this\n",
    "operator fun Number.minus(other: Value): Value = this + -other\n",
    "operator fun Number.times(other: Value): Value = other * this\n",
    "operator fun Number.div(other: Value): Value = this * other.pow(-1)"
   ],
   "outputs": [],
   "execution_count": 2
  },
  {
   "metadata": {
    "ExecuteTime": {
     "end_time": "2024-10-14T22:36:48.123463Z",
     "start_time": "2024-10-14T22:36:48.034584Z"
    }
   },
   "cell_type": "code",
   "source": [
    "var a = Value(2.0, label = \"a\")\n",
    "var b = Value(-3.0, label = \"b\")\n",
    "var c = Value(10.0, label = \"c\")\n",
    "var e = a*b; e.label = \"e\"\n",
    "var d = e+c; d.label = \"d\"\n",
    "var f = Value(-2.0, label=\"f\")\n",
    "var L = d * f; L.label = \"L\"\n",
    "L.runBackProp()"
   ],
   "outputs": [],
   "execution_count": 3
  },
  {
   "metadata": {
    "ExecuteTime": {
     "end_time": "2024-10-14T22:36:48.317928Z",
     "start_time": "2024-10-14T22:36:48.127607Z"
    }
   },
   "cell_type": "code",
   "source": [
    "var a = Value(-4.0, label = \"a\")\n",
    "var b = Value(2.0, label = \"b\")\n",
    "var c = a + b; c.label = \"c\"\n",
    "var d = a * b + b.pow(3); d.label = \"d\"\n",
    "c += c + 1\n",
    "c += 1 + c + (-a)\n",
    "d += d * 2 + (b + a).relu()\n",
    "d += 3 * d + (b - a).relu()\n",
    "var e = c - d; e.label = \"e\"\n",
    "var f = e.pow(2); f.label = \"f\"\n",
    "var g = f / 2.0; g.label = \"g\"\n",
    "g += 10.0 / f\n",
    "println(\"%.4f\".format(g.data))  // prints 24.7041, the outcome of this forward pass\n",
    "g.runBackProp()\n",
    "println(\"%.4f\".format(a.grad))  // prints 138.8338, i.e. the numerical value of dg/da\n",
    "println(\"%.4f\".format(b.grad))  // prints 645.5773, i.e. the numerical value of dg/db"
   ],
   "outputs": [
    {
     "name": "stdout",
     "output_type": "stream",
     "text": [
      "24.7041\n",
      "138.8338\n",
      "645.5773\n"
     ]
    }
   ],
   "execution_count": 4
  }
 ],
 "metadata": {
  "kernelspec": {
   "display_name": "Kotlin",
   "language": "kotlin",
   "name": "kotlin"
  },
  "language_info": {
   "name": "kotlin",
   "version": "1.9.23",
   "mimetype": "text/x-kotlin",
   "file_extension": ".kt",
   "pygments_lexer": "kotlin",
   "codemirror_mode": "text/x-kotlin",
   "nbconvert_exporter": ""
  }
 },
 "nbformat": 4,
 "nbformat_minor": 0
}
